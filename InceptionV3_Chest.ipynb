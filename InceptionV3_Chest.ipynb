{
 "cells": [
  {
   "cell_type": "markdown",
   "metadata": {
    "colab_type": "text",
    "id": "jmoBAdCuXzFB"
   },
   "source": [
    "### Import all dependencies"
   ]
  },
  {
   "cell_type": "code",
   "execution_count": 1,
   "metadata": {
    "colab": {
     "base_uri": "https://localhost:8080/",
     "height": 71
    },
    "colab_type": "code",
    "id": "mArgDd393_54",
    "outputId": "f4fa5918-e6e3-4e33-daa3-f5346d007807"
   },
   "outputs": [],
   "source": [
    "from __future__ import print_function, division\n",
    "from builtins import range, input\n",
    "\n",
    "from tensorflow.keras.layers import Input, Lambda, Dense, Flatten, AveragePooling2D, Dropout\n",
    "from tensorflow.keras.models import Model, load_model\n",
    "from tensorflow.keras.applications import InceptionV3\n",
    "from tensorflow.keras.applications.resnet50 import preprocess_input\n",
    "from tensorflow.keras.preprocessing import image\n",
    "from tensorflow.keras.preprocessing.image import ImageDataGenerator\n",
    "\n",
    "from sklearn.metrics import confusion_matrix, roc_curve\n",
    "import seaborn as sns\n",
    "import numpy as np\n",
    "import matplotlib.pyplot as plt\n",
    "import cv2\n",
    "from glob import glob"
   ]
  },
  {
   "cell_type": "markdown",
   "metadata": {
    "colab_type": "text",
    "id": "JHFmAOJ9ajx1"
   },
   "source": [
    "### Define Few Parameters"
   ]
  },
  {
   "cell_type": "code",
   "execution_count": 2,
   "metadata": {
    "colab": {},
    "colab_type": "code",
    "id": "0h6epi3D6WGQ"
   },
   "outputs": [],
   "source": [
    "#define size to which images are to be resized\n",
    "IMAGE_SIZE = [224, 224] # feel free to change depending on dataset\n",
    "\n",
    "# training config:\n",
    "epochs = 500\n",
    "batch_size = 32\n",
    "\n",
    "#define paths\n",
    "covid_path = r'G:\\COVID-19-Detection-Flask-App-based-on-Chest-X-rays-and-CT-Scans-master_2\\COVID-19-Detection-Flask-App-based-on-Chest-X-rays-and-CT-Scans-master\\COVID-19 Dataset\\X-ray\\COVID'\n",
    "noncovid_path = r'G:\\COVID-19-Detection-Flask-App-based-on-Chest-X-rays-and-CT-Scans-master_2\\COVID-19-Detection-Flask-App-based-on-Chest-X-rays-and-CT-Scans-master\\COVID-19 Dataset\\X-ray\\Non-COVID'\n",
    "\n",
    "# Use glob to grab images from path .jpg or jpeg\n",
    "covid_files = glob(covid_path + '/*')\n",
    "noncovid_files = glob(noncovid_path + '/*')"
   ]
  },
  {
   "cell_type": "markdown",
   "metadata": {
    "colab_type": "text",
    "id": "zpCwxG6Vcuu9"
   },
   "source": [
    "### Fetch Images and Class Labels from Files (This might take a while)"
   ]
  },
  {
   "cell_type": "code",
   "execution_count": null,
   "metadata": {
    "colab": {},
    "colab_type": "code",
    "id": "7DmylTfn7XND"
   },
   "outputs": [],
   "source": [
    "# Preparing Labels\n",
    "covid_labels = []\n",
    "noncovid_labels = []\n",
    "\n",
    "covid_images=[]\n",
    "noncovid_images=[]\n",
    "\n",
    "import cv2 \n",
    "\n",
    "for i in range(len(covid_files)):\n",
    "    image = cv2.imread(covid_files[i])\n",
    "    image = cv2.cvtColor(image, cv2.COLOR_BGR2RGB)\n",
    "    image = cv2.resize(image,(224,224))\n",
    "    covid_images.append(image)\n",
    "    covid_labels.append('Chest_COVID')\n",
    "\n",
    "    \n",
    "for i in range(len(noncovid_files)):\n",
    "    image = cv2.imread(noncovid_files[i])\n",
    "    image = cv2.cvtColor(image, cv2.COLOR_BGR2RGB)\n",
    "    image = cv2.resize(image,(224,224))\n",
    "    noncovid_images.append(image)\n",
    "    noncovid_labels.append('Chest_NonCOVID')"
   ]
  },
  {
   "cell_type": "markdown",
   "metadata": {
    "colab_type": "text",
    "id": "04OuC8kzhrka"
   },
   "source": [
    "### Visualize First 40 Images from Data set"
   ]
  },
  {
   "cell_type": "code",
   "execution_count": null,
   "metadata": {
    "colab": {
     "base_uri": "https://localhost:8080/",
     "height": 887
    },
    "colab_type": "code",
    "id": "aN3IdTHHhyfl",
    "outputId": "dce39d89-8da5-4b5b-d74f-8a2568c8072e"
   },
   "outputs": [],
   "source": [
    "# look at a random image for fun\n",
    "def plot_images(images, title):\n",
    "    nrows, ncols = 5, 8\n",
    "    figsize = [10, 6]\n",
    "\n",
    "    fig, ax = plt.subplots(nrows=nrows, ncols=ncols, figsize=figsize, facecolor=(1, 1, 1))\n",
    "\n",
    "    for i, axi in enumerate(ax.flat):\n",
    "        axi.imshow(images[i])\n",
    "        axi.set_axis_off()\n",
    "\n",
    "    plt.suptitle(title, fontsize=24)\n",
    "    plt.tight_layout(pad=0.2, rect=[0, 0, 1, 0.9])\n",
    "    plt.show()\n",
    "plot_images(covid_images, 'Positive COVID-19 Chest X-ray')\n",
    "plot_images(noncovid_images, 'Negative COVID-19 Chest X-ray')"
   ]
  },
  {
   "cell_type": "markdown",
   "metadata": {
    "colab_type": "text",
    "id": "Z4oSc4ake4N4"
   },
   "source": [
    "### **Normalization**\n",
    "#### Model takes images in the form of array of pixels. Hence convert into array and *normalize*"
   ]
  },
  {
   "cell_type": "code",
   "execution_count": null,
   "metadata": {
    "colab": {},
    "colab_type": "code",
    "id": "EtlBn63m7jbT"
   },
   "outputs": [],
   "source": [
    "# normalize to interval of [0,1]\n",
    "covid_images = np.array(covid_images) / 255\n",
    "noncovid_images = np.array(noncovid_images) / 255"
   ]
  },
  {
   "cell_type": "markdown",
   "metadata": {
    "colab_type": "text",
    "id": "VXltydCxfxTo"
   },
   "source": [
    "### **Train Test Split**"
   ]
  },
  {
   "cell_type": "code",
   "execution_count": null,
   "metadata": {
    "colab": {},
    "colab_type": "code",
    "id": "IJPR0OjX-IFv"
   },
   "outputs": [],
   "source": [
    "from sklearn.model_selection import train_test_split\n",
    "from sklearn.preprocessing import LabelBinarizer\n",
    "from tensorflow.keras.utils import to_categorical\n",
    "\n",
    "# split into training and testing\n",
    "covid_x_train, covid_x_test, covid_y_train, covid_y_test = train_test_split(\n",
    "    covid_images, covid_labels, test_size=0.2)\n",
    "noncovid_x_train, noncovid_x_test, noncovid_y_train, noncovid_y_test = train_test_split(\n",
    "    noncovid_images, noncovid_labels, test_size=0.2)\n",
    "\n",
    "\n",
    "X_train = np.concatenate((noncovid_x_train, covid_x_train), axis=0)\n",
    "X_test = np.concatenate((noncovid_x_test, covid_x_test), axis=0)\n",
    "y_train = np.concatenate((noncovid_y_train, covid_y_train), axis=0)\n",
    "y_test = np.concatenate((noncovid_y_test, covid_y_test), axis=0)\n",
    "\n",
    "# make labels into categories - either 0 or 1\n",
    "y_train = LabelBinarizer().fit_transform(y_train)\n",
    "y_train = to_categorical(y_train)\n",
    "\n",
    "y_test = LabelBinarizer().fit_transform(y_test)\n",
    "y_test = to_categorical(y_test)"
   ]
  },
  {
   "cell_type": "markdown",
   "metadata": {
    "colab_type": "text",
    "id": "PzwF8fPsgRR5"
   },
   "source": [
    "### Visualize a few images from Training and Test sets"
   ]
  },
  {
   "cell_type": "code",
   "execution_count": null,
   "metadata": {
    "colab": {
     "base_uri": "https://localhost:8080/",
     "height": 887
    },
    "colab_type": "code",
    "id": "IcMmPSk9JUty",
    "outputId": "63f2ff03-6d78-4268-af71-f3a60a85fe95"
   },
   "outputs": [],
   "source": [
    "plot_images(covid_x_train, 'X_train')\n",
    "plot_images(covid_x_test, 'X_test')\n",
    "# y_train and y_test contain class lables 0 and 1 representing COVID and NonCOVID for X_train and X_test"
   ]
  },
  {
   "cell_type": "markdown",
   "metadata": {
    "colab_type": "text",
    "id": "7T3wkds0N5hK"
   },
   "source": [
    "### **Building and Visualizing model**"
   ]
  },
  {
   "cell_type": "code",
   "execution_count": null,
   "metadata": {
    "colab": {
     "base_uri": "https://localhost:8080/",
     "height": 51
    },
    "colab_type": "code",
    "id": "s47Amw8c-iTl",
    "outputId": "ba3ab93b-8c6c-4bc8-a272-66891e425caa"
   },
   "outputs": [],
   "source": [
    "inception = InceptionV3(weights=\"imagenet\", include_top=False,\n",
    "    input_tensor=Input(shape=(224, 224, 3)))\n",
    "\n",
    "outputs = inception.output\n",
    "outputs = Flatten(name=\"flatten\")(outputs)\n",
    "outputs = Dropout(0.5)(outputs)\n",
    "outputs = Dense(2, activation=\"softmax\")(outputs)\n",
    "\n",
    "model = Model(inputs=inception.input, outputs=outputs)\n",
    "\n",
    "for layer in inception.layers:\n",
    "    layer.trainable = False\n",
    "\n",
    "model.compile(\n",
    "        loss='categorical_crossentropy', \n",
    "        optimizer='adam', \n",
    "        metrics=['accuracy']\n",
    ")\n",
    "\n",
    "train_aug = ImageDataGenerator(\n",
    "    rotation_range=20,\n",
    "    width_shift_range=0.2,\n",
    "    height_shift_range=0.2,\n",
    "    horizontal_flip=True\n",
    ")"
   ]
  },
  {
   "cell_type": "code",
   "execution_count": null,
   "metadata": {
    "colab": {
     "base_uri": "https://localhost:8080/",
     "height": 1000
    },
    "colab_type": "code",
    "id": "x6z8EtY_--Ar",
    "outputId": "00a28b2a-8af6-4359-bdf6-a6cf79701b13"
   },
   "outputs": [],
   "source": [
    "model.summary()"
   ]
  },
  {
   "cell_type": "markdown",
   "metadata": {
    "colab_type": "text",
    "id": "FDdG0hOYO5oc"
   },
   "source": [
    "### **Training the model**"
   ]
  },
  {
   "cell_type": "code",
   "execution_count": null,
   "metadata": {
    "colab": {
     "base_uri": "https://localhost:8080/",
     "height": 1000
    },
    "colab_type": "code",
    "id": "KyYMAc1IyZOL",
    "outputId": "527e053f-b957-491e-d616-944cea2de774"
   },
   "outputs": [],
   "source": [
    "history = model.fit(train_aug.flow(X_train, y_train, batch_size=32),\n",
    "                    validation_data=(X_test, y_test),\n",
    "                    validation_steps=len(X_test) / 32,\n",
    "                    steps_per_epoch=len(X_train) / 32,\n",
    "                    epochs=500)"
   ]
  },
  {
   "cell_type": "code",
   "execution_count": null,
   "metadata": {
    "colab": {},
    "colab_type": "code",
    "id": "48WerEQHda3P"
   },
   "outputs": [],
   "source": [
    "model.save('inceptionv3_chest.h5')"
   ]
  },
  {
   "cell_type": "code",
   "execution_count": null,
   "metadata": {
    "colab": {},
    "colab_type": "code",
    "id": "_XOd_jvDffO7"
   },
   "outputs": [],
   "source": [
    "model.save_weights('inceptionv3_chest.hdf5')"
   ]
  },
  {
   "cell_type": "code",
   "execution_count": null,
   "metadata": {
    "colab": {},
    "colab_type": "code",
    "id": "WfnsaxOjfiyh"
   },
   "outputs": [],
   "source": [
    "model = load_model('inceptionv3_chest.h5')"
   ]
  },
  {
   "cell_type": "markdown",
   "metadata": {
    "colab_type": "text",
    "id": "phWro75kSBI2"
   },
   "source": [
    "### **Making Predicions**"
   ]
  },
  {
   "cell_type": "code",
   "execution_count": null,
   "metadata": {
    "colab": {},
    "colab_type": "code",
    "id": "Dso993Mv7sEF"
   },
   "outputs": [],
   "source": [
    "y_pred = model.predict(X_test, batch_size=batch_size)"
   ]
  },
  {
   "cell_type": "markdown",
   "metadata": {
    "colab_type": "text",
    "id": "OBiA8iqGSGr7"
   },
   "source": [
    "### Visulaizing First 10 predictions"
   ]
  },
  {
   "cell_type": "code",
   "execution_count": null,
   "metadata": {
    "colab": {
     "base_uri": "https://localhost:8080/",
     "height": 1000
    },
    "colab_type": "code",
    "id": "S22ulPybSYLe",
    "outputId": "d174f77d-b0c1-4313-9e1e-7d3934354005"
   },
   "outputs": [],
   "source": [
    "prediction=y_pred[0:10]\n",
    "for index, probability in enumerate(prediction):\n",
    "    if probability[1] > 0.5:\n",
    "        plt.title('%.2f' % (probability[1]*100) + '% COVID')\n",
    "    else:\n",
    "        plt.title('%.2f' % ((1-probability[1])*100) + '% NonCOVID')\n",
    "        plt.imshow(X_test[index])\n",
    "        plt.show()"
   ]
  },
  {
   "cell_type": "code",
   "execution_count": null,
   "metadata": {
    "colab": {},
    "colab_type": "code",
    "id": "t7OnPLZZp3tq"
   },
   "outputs": [],
   "source": [
    "# Convert to Binary classes\n",
    "y_pred_bin = np.argmax(y_pred, axis=1)\n",
    "y_test_bin = np.argmax(y_test, axis=1)"
   ]
  },
  {
   "cell_type": "markdown",
   "metadata": {
    "colab_type": "text",
    "id": "QAPfnQ2Np3PE"
   },
   "source": [
    "### Plot ROC Curve"
   ]
  },
  {
   "cell_type": "code",
   "execution_count": null,
   "metadata": {
    "colab": {
     "base_uri": "https://localhost:8080/",
     "height": 302
    },
    "colab_type": "code",
    "id": "M7k3UOqThPLw",
    "outputId": "a3e54b69-b827-4ae2-bd28-72d43174f4c2"
   },
   "outputs": [],
   "source": [
    "fpr, tpr, thresholds = roc_curve(y_test_bin, y_pred_bin)\n",
    "plt.plot(fpr, tpr)\n",
    "plt.xlim([0.0, 1.0])\n",
    "plt.ylim([0.0, 1.0])\n",
    "plt.rcParams['font.size'] = 12\n",
    "plt.title('ROC curve for our model')\n",
    "plt.xlabel('False Positive Rate')\n",
    "plt.ylabel('True Positive Rate')\n",
    "plt.grid(True)"
   ]
  },
  {
   "cell_type": "markdown",
   "metadata": {
    "colab_type": "text",
    "id": "wNyZRJ1JfYC1"
   },
   "source": [
    "### Plot Confusion Matrix"
   ]
  },
  {
   "cell_type": "code",
   "execution_count": null,
   "metadata": {
    "colab": {
     "base_uri": "https://localhost:8080/",
     "height": 621
    },
    "colab_type": "code",
    "id": "t80JK23kVxua",
    "outputId": "c2798f5a-406a-42de-e48c-a4c2a8738035"
   },
   "outputs": [],
   "source": [
    "def plot_confusion_matrix(normalize):\n",
    "    classes = ['COVID','NonCOVID']\n",
    "    tick_marks = [0.5,1.5]\n",
    "    cn = confusion_matrix(y_test_bin, y_pred_bin,normalize=normalize)\n",
    "    sns.heatmap(cn,cmap='plasma',annot=True)\n",
    "    plt.xticks(tick_marks, classes)\n",
    "    plt.yticks(tick_marks, classes)\n",
    "    plt.title('Confusion Matrix')\n",
    "    plt.ylabel('True label')\n",
    "    plt.xlabel('Predicted label')\n",
    "    plt.show()\n",
    "\n",
    "print('Confusion Matrix without Normalization')\n",
    "plot_confusion_matrix(normalize=None)\n",
    "\n",
    "print('Confusion Matrix with Normalized Values')\n",
    "plot_confusion_matrix(normalize='true')"
   ]
  },
  {
   "cell_type": "markdown",
   "metadata": {
    "colab_type": "text",
    "id": "aZoH_wCSMDD4"
   },
   "source": [
    "### **Classification Report**"
   ]
  },
  {
   "cell_type": "code",
   "execution_count": null,
   "metadata": {
    "colab": {
     "base_uri": "https://localhost:8080/",
     "height": 170
    },
    "colab_type": "code",
    "id": "kFSCY2HH7uVc",
    "outputId": "69f53d0f-999a-4dda-b7c8-0ea739287bc2"
   },
   "outputs": [],
   "source": [
    "from sklearn.metrics import classification_report\n",
    "print(classification_report(y_test_bin, y_pred_bin))"
   ]
  },
  {
   "cell_type": "markdown",
   "metadata": {
    "colab_type": "text",
    "id": "I1makQs5MMlU"
   },
   "source": [
    "### **Accuracy and Loss Plots**"
   ]
  },
  {
   "cell_type": "code",
   "execution_count": null,
   "metadata": {
    "colab": {
     "base_uri": "https://localhost:8080/",
     "height": 629
    },
    "colab_type": "code",
    "id": "26Vwg9q47_sK",
    "outputId": "3a677e7c-1950-4d86-b8f3-6b3313bf1b8a"
   },
   "outputs": [],
   "source": [
    "plt.figure(figsize=(10,10))\n",
    "\n",
    "plt.plot(history.history['accuracy'])\n",
    "plt.plot(history.history['val_accuracy'])\n",
    "\n",
    "plt.title('Model Accuracy')\n",
    "plt.ylabel('Accuracy')\n",
    "plt.xlabel('Epoch')\n",
    "\n",
    "plt.legend(['Training', 'Testing'])\n",
    "plt.savefig('inception_chest_accuracy.png')\n",
    "plt.show()\n"
   ]
  },
  {
   "cell_type": "code",
   "execution_count": null,
   "metadata": {
    "colab": {
     "base_uri": "https://localhost:8080/",
     "height": 629
    },
    "colab_type": "code",
    "id": "pgwr4yJA8A0e",
    "outputId": "b015becf-85f9-4c85-f6e2-825208c5fc4a"
   },
   "outputs": [],
   "source": [
    "plt.figure(figsize=(10,10))\n",
    "\n",
    "plt.plot(history.history['loss'])\n",
    "plt.plot(history.history['val_loss'])\n",
    "\n",
    "plt.title('Model Loss')\n",
    "plt.ylabel('Loss')\n",
    "plt.xlabel('Epoch')\n",
    "\n",
    "plt.legend(['Training', 'Testing'])\n",
    "plt.savefig('inception_chest_loss.png')\n",
    "plt.show()"
   ]
  },
  {
   "cell_type": "code",
   "execution_count": null,
   "metadata": {
    "colab": {},
    "colab_type": "code",
    "id": "tDWug3NpMkGX"
   },
   "outputs": [],
   "source": []
  },
  {
   "cell_type": "code",
   "execution_count": 0,
   "metadata": {
    "colab": {},
    "colab_type": "code",
    "id": "pMlrl1tl9bDY"
   },
   "outputs": [],
   "source": []
  }
 ],
 "metadata": {
  "accelerator": "GPU",
  "colab": {
   "collapsed_sections": [],
   "machine_shape": "hm",
   "name": "InceptionV3 Chest.ipynb",
   "provenance": []
  },
  "kernelspec": {
   "display_name": "Python 3 (ipykernel)",
   "language": "python",
   "name": "python3"
  },
  "language_info": {
   "codemirror_mode": {
    "name": "ipython",
    "version": 3
   },
   "file_extension": ".py",
   "mimetype": "text/x-python",
   "name": "python",
   "nbconvert_exporter": "python",
   "pygments_lexer": "ipython3",
   "version": "3.9.7"
  }
 },
 "nbformat": 4,
 "nbformat_minor": 1
}

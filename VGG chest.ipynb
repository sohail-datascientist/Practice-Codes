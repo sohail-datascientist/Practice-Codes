{
 "cells": [
  {
   "cell_type": "markdown",
   "metadata": {
    "colab_type": "text",
    "id": "jmoBAdCuXzFB"
   },
   "source": [
    "### Import all dependencies"
   ]
  },
  {
   "cell_type": "code",
   "execution_count": null,
   "metadata": {
    "colab": {
     "base_uri": "https://localhost:8080/",
     "height": 71
    },
    "colab_type": "code",
    "executionInfo": {
     "elapsed": 3740,
     "status": "ok",
     "timestamp": 1589710255147,
     "user": {
      "displayName": "Kaushik Jadhav",
      "photoUrl": "",
      "userId": "07192573247349343640"
     },
     "user_tz": -330
    },
    "id": "mArgDd393_54",
    "outputId": "5e135660-f8fd-448c-d5bc-2723cfa197ed"
   },
   "outputs": [],
   "source": [
    "from __future__ import print_function, division\n",
    "from builtins import range, input\n",
    "\n",
    "from tensorflow.keras.layers import Input, Lambda, Dense, Flatten, GlobalAveragePooling2D, Dropout\n",
    "from tensorflow.keras.models import Model, load_model\n",
    "from tensorflow.keras.applications import VGG19\n",
    "from tensorflow.keras.applications.vgg16 import preprocess_input\n",
    "from tensorflow.keras.preprocessing import image\n",
    "from tensorflow.keras.preprocessing.image import ImageDataGenerator\n",
    "\n",
    "from sklearn.metrics import confusion_matrix, roc_curve\n",
    "import seaborn as sns\n",
    "import numpy as np\n",
    "import matplotlib.pyplot as plt\n",
    "\n",
    "from glob import glob\n",
    "import pandas as pd"
   ]
  },
  {
   "cell_type": "markdown",
   "metadata": {
    "colab_type": "text",
    "id": "JHFmAOJ9ajx1"
   },
   "source": [
    "### Define Few Parameters"
   ]
  },
  {
   "cell_type": "code",
   "execution_count": null,
   "metadata": {
    "colab": {},
    "colab_type": "code",
    "id": "0h6epi3D6WGQ"
   },
   "outputs": [],
   "source": [
    "#define size to which images are to be resized\n",
    "IMAGE_SIZE = [224, 224] # feel free to change depending on dataset\n",
    "\n",
    "# training config:\n",
    "epochs = 500\n",
    "batch_size = 32\n",
    "\n",
    "#define paths\n",
    "covid_path = r'G:\\COVID-19-Detection-Flask-App-based-on-Chest-X-rays-and-CT-Scans-master_2\\COVID-19-Detection-Flask-App-based-on-Chest-X-rays-and-CT-Scans-master\\COVID-19 Dataset\\X-ray\\COVID'\n",
    "noncovid_path = r'G:\\COVID-19-Detection-Flask-App-based-on-Chest-X-rays-and-CT-Scans-master_2\\COVID-19-Detection-Flask-App-based-on-Chest-X-rays-and-CT-Scans-master\\COVID-19 Dataset\\X-ray\\Non-COVID'\n",
    "\n",
    "# Use glob to grab images from path .jpg or jpeg\n",
    "covid_files = glob(covid_path + '/*')\n",
    "noncovid_files = glob(noncovid_path + '/*')"
   ]
  },
  {
   "cell_type": "markdown",
   "metadata": {
    "colab_type": "text",
    "id": "zpCwxG6Vcuu9"
   },
   "source": [
    "### Fetch Images and Class Labels from Files (This might take a while)"
   ]
  },
  {
   "cell_type": "code",
   "execution_count": null,
   "metadata": {
    "colab": {},
    "colab_type": "code",
    "id": "DprWWADzG-TR"
   },
   "outputs": [],
   "source": [
    "# Preparing Labels\n",
    "covid_labels = []\n",
    "noncovid_labels = []\n",
    "\n",
    "covid_images=[]\n",
    "noncovid_images=[]\n",
    "\n",
    "import cv2 \n",
    "\n",
    "for i in range(len(covid_files)):\n",
    "    image = cv2.imread(covid_files[i])\n",
    "    image = cv2.cvtColor(image, cv2.COLOR_BGR2RGB)\n",
    "    image = cv2.resize(image,(224,224))\n",
    "    covid_images.append(image)\n",
    "    covid_labels.append('Chest_COVID')\n",
    "for i in range(len(noncovid_files)):\n",
    "    image = cv2.imread(noncovid_files[i])\n",
    "    image = cv2.cvtColor(image, cv2.COLOR_BGR2RGB)\n",
    "    image = cv2.resize(image,(224,224))\n",
    "    noncovid_images.append(image)\n",
    "    noncovid_labels.append('Chest_NonCOVID')"
   ]
  },
  {
   "cell_type": "markdown",
   "metadata": {
    "colab_type": "text",
    "id": "04OuC8kzhrka"
   },
   "source": [
    "### Visualize First 40 Images from Data set"
   ]
  },
  {
   "cell_type": "code",
   "execution_count": null,
   "metadata": {
    "colab": {
     "base_uri": "https://localhost:8080/",
     "height": 887
    },
    "colab_type": "code",
    "executionInfo": {
     "elapsed": 5679,
     "status": "ok",
     "timestamp": 1589710599052,
     "user": {
      "displayName": "Kaushik Jadhav",
      "photoUrl": "",
      "userId": "07192573247349343640"
     },
     "user_tz": -330
    },
    "id": "aN3IdTHHhyfl",
    "outputId": "ad297a89-c004-40f2-8340-b261d8a525f9"
   },
   "outputs": [],
   "source": [
    "# look at a random image for fun\n",
    "def plot_images(images, title):\n",
    "    nrows, ncols = 5, 8\n",
    "    figsize = [10, 6]\n",
    "\n",
    "    fig, ax = plt.subplots(nrows=nrows, ncols=ncols, figsize=figsize, facecolor=(1, 1, 1))\n",
    "\n",
    "    for i, axi in enumerate(ax.flat):\n",
    "        axi.imshow(images[i])\n",
    "        axi.set_axis_off()\n",
    "\n",
    "    plt.suptitle(title, fontsize=24)\n",
    "    plt.tight_layout(pad=0.2, rect=[0, 0, 1, 0.9])\n",
    "    plt.show()\n",
    "plot_images(covid_images, 'Positive COVID-19 Chest X-ray')\n",
    "plot_images(noncovid_images, 'Negative COVID-19 Chest X-ray')"
   ]
  },
  {
   "cell_type": "markdown",
   "metadata": {
    "colab_type": "text",
    "id": "Z4oSc4ake4N4"
   },
   "source": [
    "### **Normalization**\n",
    "#### Model takes images in the form of array of pixels. Hence convert into array and *normalize*"
   ]
  },
  {
   "cell_type": "code",
   "execution_count": null,
   "metadata": {
    "colab": {},
    "colab_type": "code",
    "id": "64G38eYlGS8g"
   },
   "outputs": [],
   "source": [
    "# Convert to array and Normalize to interval of [0,1]\n",
    "covid_images = np.array(covid_images) / 255\n",
    "noncovid_images = np.array(noncovid_images) / 255"
   ]
  },
  {
   "cell_type": "markdown",
   "metadata": {
    "colab_type": "text",
    "id": "VXltydCxfxTo"
   },
   "source": [
    "### **Train Test Split**"
   ]
  },
  {
   "cell_type": "code",
   "execution_count": null,
   "metadata": {
    "colab": {},
    "colab_type": "code",
    "id": "1GzPOOfKLZGi"
   },
   "outputs": [],
   "source": [
    "from sklearn.model_selection import train_test_split\n",
    "from sklearn.preprocessing import LabelBinarizer\n",
    "from tensorflow.keras.utils import to_categorical\n",
    "\n",
    "# split into training and testing\n",
    "covid_x_train, covid_x_test, covid_y_train, covid_y_test = train_test_split(\n",
    "    covid_images, covid_labels, test_size=0.2)\n",
    "noncovid_x_train, noncovid_x_test, noncovid_y_train, noncovid_y_test = train_test_split(\n",
    "    noncovid_images, noncovid_labels, test_size=0.2)\n",
    "\n",
    "\n",
    "X_train = np.concatenate((noncovid_x_train, covid_x_train), axis=0)\n",
    "X_test = np.concatenate((noncovid_x_test, covid_x_test), axis=0)\n",
    "y_train = np.concatenate((noncovid_y_train, covid_y_train), axis=0)\n",
    "y_test = np.concatenate((noncovid_y_test, covid_y_test), axis=0)\n",
    "\n",
    "# make labels into categories - either 0 or 1\n",
    "y_train = LabelBinarizer().fit_transform(y_train)\n",
    "y_train = to_categorical(y_train)\n",
    "\n",
    "y_test = LabelBinarizer().fit_transform(y_test)\n",
    "y_test = to_categorical(y_test)"
   ]
  },
  {
   "cell_type": "markdown",
   "metadata": {
    "colab_type": "text",
    "id": "PzwF8fPsgRR5"
   },
   "source": [
    "### Visualize a few images from Training and Test sets"
   ]
  },
  {
   "cell_type": "code",
   "execution_count": null,
   "metadata": {
    "colab": {
     "base_uri": "https://localhost:8080/",
     "height": 887
    },
    "colab_type": "code",
    "executionInfo": {
     "elapsed": 301035,
     "status": "ok",
     "timestamp": 1589710560301,
     "user": {
      "displayName": "Kaushik Jadhav",
      "photoUrl": "",
      "userId": "07192573247349343640"
     },
     "user_tz": -330
    },
    "id": "ZZmqySfO1PUy",
    "outputId": "a1a31105-efd4-4b86-e32a-012b7a7e5a2f"
   },
   "outputs": [],
   "source": [
    "plot_images(covid_x_train, 'X_train')\n",
    "plot_images(covid_x_test, 'X_test')\n",
    "# y_train and y_test contain class lables 0 and 1 representing COVID and NonCOVID for X_train and X_test"
   ]
  },
  {
   "cell_type": "markdown",
   "metadata": {
    "colab_type": "text",
    "id": "7T3wkds0N5hK"
   },
   "source": [
    "### **Building and Visualizing model**"
   ]
  },
  {
   "cell_type": "code",
   "execution_count": null,
   "metadata": {
    "colab": {
     "base_uri": "https://localhost:8080/",
     "height": 51
    },
    "colab_type": "code",
    "executionInfo": {
     "elapsed": 9504,
     "status": "ok",
     "timestamp": 1589710630089,
     "user": {
      "displayName": "Kaushik Jadhav",
      "photoUrl": "",
      "userId": "07192573247349343640"
     },
     "user_tz": -330
    },
    "id": "7DmylTfn7XND",
    "outputId": "8a267241-3fae-46a6-a00c-b94392c6106d"
   },
   "outputs": [],
   "source": [
    "vggModel = VGG19(weights=\"imagenet\", include_top=False,\n",
    "    input_tensor=Input(shape=(224, 224, 3)))\n",
    "\n",
    "outputs = vggModel.output\n",
    "outputs = Flatten(name=\"flatten\")(outputs)\n",
    "outputs = Dropout(0.5)(outputs)\n",
    "outputs = Dense(2, activation=\"softmax\")(outputs)\n",
    "\n",
    "model = Model(inputs=vggModel.input, outputs=outputs)\n",
    "\n",
    "for layer in vggModel.layers:\n",
    "    layer.trainable = False\n",
    "\n",
    "model.compile(\n",
    "        loss='categorical_crossentropy', \n",
    "        optimizer='adam', \n",
    "        metrics=['accuracy']\n",
    ")"
   ]
  },
  {
   "cell_type": "code",
   "execution_count": null,
   "metadata": {
    "colab": {
     "base_uri": "https://localhost:8080/",
     "height": 1000
    },
    "colab_type": "code",
    "executionInfo": {
     "elapsed": 3704,
     "status": "ok",
     "timestamp": 1589710630093,
     "user": {
      "displayName": "Kaushik Jadhav",
      "photoUrl": "",
      "userId": "07192573247349343640"
     },
     "user_tz": -330
    },
    "id": "EtlBn63m7jbT",
    "outputId": "e06e70e7-03a8-41c5-adb0-c32ba84cb4ef"
   },
   "outputs": [],
   "source": [
    "model.summary()"
   ]
  },
  {
   "cell_type": "markdown",
   "metadata": {
    "colab_type": "text",
    "id": "z8_B0QdQjhCM"
   },
   "source": [
    "### **Image Augmentation**\n",
    "To train on images at different positions, angles, flips, etc"
   ]
  },
  {
   "cell_type": "code",
   "execution_count": null,
   "metadata": {
    "colab": {},
    "colab_type": "code",
    "id": "ZFbdLQ7yjoOS"
   },
   "outputs": [],
   "source": [
    "train_aug = ImageDataGenerator(\n",
    "    rotation_range=20,\n",
    "    width_shift_range=0.2,\n",
    "    height_shift_range=0.2,\n",
    "    horizontal_flip=True\n",
    ")"
   ]
  },
  {
   "cell_type": "markdown",
   "metadata": {
    "colab_type": "text",
    "id": "FDdG0hOYO5oc"
   },
   "source": [
    "### **Training the model**"
   ]
  },
  {
   "cell_type": "code",
   "execution_count": null,
   "metadata": {
    "colab": {
     "base_uri": "https://localhost:8080/",
     "height": 1000
    },
    "colab_type": "code",
    "executionInfo": {
     "elapsed": 5586040,
     "status": "ok",
     "timestamp": 1589716450689,
     "user": {
      "displayName": "Kaushik Jadhav",
      "photoUrl": "",
      "userId": "07192573247349343640"
     },
     "user_tz": -330
    },
    "id": "IJPR0OjX-IFv",
    "outputId": "b45e7d56-1d82-40dd-da91-7725f6294a76"
   },
   "outputs": [],
   "source": [
    "history = model.fit(train_aug.flow(X_train, y_train, batch_size=32),\n",
    "                    validation_data=(X_test, y_test),\n",
    "                    validation_steps=len(X_test) / 32,\n",
    "                    steps_per_epoch=len(X_train) / 32,\n",
    "                    epochs=500)"
   ]
  },
  {
   "cell_type": "code",
   "execution_count": null,
   "metadata": {
    "colab": {},
    "colab_type": "code",
    "id": "x6z8EtY_--Ar"
   },
   "outputs": [],
   "source": [
    "model.save('vgg_chest.h5')"
   ]
  },
  {
   "cell_type": "code",
   "execution_count": null,
   "metadata": {
    "colab": {},
    "colab_type": "code",
    "id": "a6RVO4BvFH9I"
   },
   "outputs": [],
   "source": [
    "model.save_weights('vggweights_chest.hdf5')"
   ]
  },
  {
   "cell_type": "code",
   "execution_count": null,
   "metadata": {
    "colab": {},
    "colab_type": "code",
    "id": "P_Ojh_0bkmZA"
   },
   "outputs": [],
   "source": [
    "model = load_model('vgg_chest.h5')"
   ]
  },
  {
   "cell_type": "markdown",
   "metadata": {
    "colab_type": "text",
    "id": "phWro75kSBI2"
   },
   "source": [
    "### **Making Predicions**"
   ]
  },
  {
   "cell_type": "code",
   "execution_count": null,
   "metadata": {
    "colab": {},
    "colab_type": "code",
    "id": "Dso993Mv7sEF"
   },
   "outputs": [],
   "source": [
    "y_pred = model.predict(X_test, batch_size=batch_size)"
   ]
  },
  {
   "cell_type": "markdown",
   "metadata": {
    "colab_type": "text",
    "id": "OBiA8iqGSGr7"
   },
   "source": [
    "### Visulaizing First 10 predictions"
   ]
  },
  {
   "cell_type": "code",
   "execution_count": null,
   "metadata": {
    "colab": {
     "base_uri": "https://localhost:8080/",
     "height": 1000
    },
    "colab_type": "code",
    "executionInfo": {
     "elapsed": 5527741,
     "status": "ok",
     "timestamp": 1589716460097,
     "user": {
      "displayName": "Kaushik Jadhav",
      "photoUrl": "",
      "userId": "07192573247349343640"
     },
     "user_tz": -330
    },
    "id": "S22ulPybSYLe",
    "outputId": "d3246231-d9bd-4791-a800-f62cfb965e64"
   },
   "outputs": [],
   "source": [
    "prediction=y_pred[0:10]\n",
    "for index, probability in enumerate(prediction):\n",
    "  if probability[1] > 0.5:\n",
    "        plt.title('%.2f' % (probability[1]*100) + '% COVID')\n",
    "  else:\n",
    "        plt.title('%.2f' % ((1-probability[1])*100) + '% NonCOVID')\n",
    "  plt.imshow(X_test[index])\n",
    "  plt.show()"
   ]
  },
  {
   "cell_type": "code",
   "execution_count": null,
   "metadata": {
    "colab": {},
    "colab_type": "code",
    "id": "t7OnPLZZp3tq"
   },
   "outputs": [],
   "source": [
    "# Convert to Binary classes\n",
    "y_pred_bin = np.argmax(y_pred, axis=1)\n",
    "y_test_bin = np.argmax(y_test, axis=1)"
   ]
  },
  {
   "cell_type": "markdown",
   "metadata": {
    "colab_type": "text",
    "id": "QAPfnQ2Np3PE"
   },
   "source": [
    "### Plot ROC Curve"
   ]
  },
  {
   "cell_type": "code",
   "execution_count": null,
   "metadata": {
    "colab": {
     "base_uri": "https://localhost:8080/",
     "height": 302
    },
    "colab_type": "code",
    "executionInfo": {
     "elapsed": 1320,
     "status": "ok",
     "timestamp": 1589716823536,
     "user": {
      "displayName": "Kaushik Jadhav",
      "photoUrl": "",
      "userId": "07192573247349343640"
     },
     "user_tz": -330
    },
    "id": "M7k3UOqThPLw",
    "outputId": "81e32e34-e4f6-4153-e96f-19147785f989"
   },
   "outputs": [],
   "source": [
    "fpr, tpr, thresholds = roc_curve(y_test_bin, y_pred_bin)\n",
    "plt.plot(fpr, tpr)\n",
    "plt.xlim([0.0, 1.0])\n",
    "plt.ylim([0.0, 1.0])\n",
    "plt.rcParams['font.size'] = 12\n",
    "plt.title('ROC curve for our model')\n",
    "plt.xlabel('False Positive Rate')\n",
    "plt.ylabel('True Positive Rate')\n",
    "plt.grid(True)"
   ]
  },
  {
   "cell_type": "markdown",
   "metadata": {
    "colab_type": "text",
    "id": "wNyZRJ1JfYC1"
   },
   "source": [
    "### Plot Confusion Matrix"
   ]
  },
  {
   "cell_type": "code",
   "execution_count": null,
   "metadata": {
    "colab": {
     "base_uri": "https://localhost:8080/",
     "height": 621
    },
    "colab_type": "code",
    "executionInfo": {
     "elapsed": 1514,
     "status": "ok",
     "timestamp": 1589716824515,
     "user": {
      "displayName": "Kaushik Jadhav",
      "photoUrl": "",
      "userId": "07192573247349343640"
     },
     "user_tz": -330
    },
    "id": "t80JK23kVxua",
    "outputId": "b30a62e9-b063-44cf-a289-8a18546bd7ab"
   },
   "outputs": [],
   "source": [
    "def plot_confusion_matrix(normalize):\n",
    "  classes = ['COVID','NonCOVID']\n",
    "  tick_marks = [0.5,1.5]\n",
    "  cn = confusion_matrix(y_test_bin, y_pred_bin,normalize=normalize)\n",
    "  sns.heatmap(cn,cmap='plasma',annot=True)\n",
    "  plt.xticks(tick_marks, classes)\n",
    "  plt.yticks(tick_marks, classes)\n",
    "  plt.title('Confusion Matrix')\n",
    "  plt.ylabel('True label')\n",
    "  plt.xlabel('Predicted label')\n",
    "  plt.show()\n",
    "\n",
    "print('Confusion Matrix without Normalization')\n",
    "plot_confusion_matrix(normalize=None)\n",
    "\n",
    "print('Confusion Matrix with Normalized Values')\n",
    "plot_confusion_matrix(normalize='true')"
   ]
  },
  {
   "cell_type": "markdown",
   "metadata": {
    "colab_type": "text",
    "id": "aZoH_wCSMDD4"
   },
   "source": [
    "### **Classification Report**"
   ]
  },
  {
   "cell_type": "code",
   "execution_count": null,
   "metadata": {
    "colab": {
     "base_uri": "https://localhost:8080/",
     "height": 170
    },
    "colab_type": "code",
    "executionInfo": {
     "elapsed": 923,
     "status": "ok",
     "timestamp": 1589716824850,
     "user": {
      "displayName": "Kaushik Jadhav",
      "photoUrl": "",
      "userId": "07192573247349343640"
     },
     "user_tz": -330
    },
    "id": "kFSCY2HH7uVc",
    "outputId": "7e3d32ce-6c28-4863-d755-1175bdb2548a"
   },
   "outputs": [],
   "source": [
    "from sklearn.metrics import classification_report\n",
    "print(classification_report(y_test_bin, y_pred_bin))"
   ]
  },
  {
   "cell_type": "markdown",
   "metadata": {
    "colab_type": "text",
    "id": "I1makQs5MMlU"
   },
   "source": [
    "### **Accuracy and Loss Plots**"
   ]
  },
  {
   "cell_type": "code",
   "execution_count": null,
   "metadata": {
    "colab": {
     "base_uri": "https://localhost:8080/",
     "height": 629
    },
    "colab_type": "code",
    "executionInfo": {
     "elapsed": 1797,
     "status": "ok",
     "timestamp": 1589716726238,
     "user": {
      "displayName": "Kaushik Jadhav",
      "photoUrl": "",
      "userId": "07192573247349343640"
     },
     "user_tz": -330
    },
    "id": "26Vwg9q47_sK",
    "outputId": "1533f995-5219-4b4e-eca1-37872ee77017"
   },
   "outputs": [],
   "source": [
    "plt.figure(figsize=(10,10))\n",
    "\n",
    "plt.plot(history.history['accuracy'])\n",
    "plt.plot(history.history['val_accuracy'])\n",
    "\n",
    "plt.title('Model Accuracy')\n",
    "plt.ylabel('Accuracy')\n",
    "plt.xlabel('Epoch')\n",
    "\n",
    "plt.legend(['Training', 'Testing'])\n",
    "plt.savefig('vgg_chest_accuracy.png')\n",
    "plt.show()\n"
   ]
  },
  {
   "cell_type": "code",
   "execution_count": null,
   "metadata": {
    "colab": {
     "base_uri": "https://localhost:8080/",
     "height": 629
    },
    "colab_type": "code",
    "executionInfo": {
     "elapsed": 1794,
     "status": "ok",
     "timestamp": 1589716729188,
     "user": {
      "displayName": "Kaushik Jadhav",
      "photoUrl": "",
      "userId": "07192573247349343640"
     },
     "user_tz": -330
    },
    "id": "pgwr4yJA8A0e",
    "outputId": "efa7af6f-0098-46d2-ec72-704c7cd102a6"
   },
   "outputs": [],
   "source": [
    "plt.figure(figsize=(10,10))\n",
    "\n",
    "plt.plot(history.history['loss'])\n",
    "plt.plot(history.history['val_loss'])\n",
    "\n",
    "plt.title('Model Loss')\n",
    "plt.ylabel('Loss')\n",
    "plt.xlabel('Epoch')\n",
    "\n",
    "plt.legend(['Training', 'Testing'])\n",
    "plt.savefig('vgg_chest_loss.png')\n",
    "plt.show()"
   ]
  },
  {
   "cell_type": "code",
   "execution_count": null,
   "metadata": {
    "colab": {},
    "colab_type": "code",
    "id": "tDWug3NpMkGX"
   },
   "outputs": [],
   "source": []
  },
  {
   "cell_type": "code",
   "execution_count": 0,
   "metadata": {
    "colab": {},
    "colab_type": "code",
    "id": "8C2U4TnbkoR2"
   },
   "outputs": [],
   "source": []
  }
 ],
 "metadata": {
  "accelerator": "GPU",
  "colab": {
   "collapsed_sections": [],
   "machine_shape": "hm",
   "name": "VGG chest.ipynb",
   "provenance": []
  },
  "kernelspec": {
   "display_name": "Python 3 (ipykernel)",
   "language": "python",
   "name": "python3"
  },
  "language_info": {
   "codemirror_mode": {
    "name": "ipython",
    "version": 3
   },
   "file_extension": ".py",
   "mimetype": "text/x-python",
   "name": "python",
   "nbconvert_exporter": "python",
   "pygments_lexer": "ipython3",
   "version": "3.9.7"
  }
 },
 "nbformat": 4,
 "nbformat_minor": 1
}
